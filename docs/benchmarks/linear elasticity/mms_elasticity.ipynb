{
 "cells": [
  {
   "cell_type": "markdown",
   "metadata": {},
   "source": [
    "# Method of manufactured solutions for linear elasticity\n",
    "\n",
    "In order to test the implementation of linear elasticity on a structural level, we use the method of manufactured solutions to obtain an analytical solution for the structural problem. This is achieved by assuming an analytical expression for the displacements which is then used to calculate the strains, stresses. \n",
    "\n",
    "The stresses are then used to calculate the forces acting on the structure which are used to determine boundary conditions for an FEM problem. The FEM problem is then solved and the results are compared to the analytical solution.\n",
    "\n",
    "The analytical expression for the displacement should be chosen such that it cannot be easily expressed by the FEM solution because otherwise the error might become zero and a convergence analysis becomes meaningless. "
   ]
  },
  {
   "cell_type": "markdown",
   "metadata": {},
   "source": [
    "Given a displacement field $u(x,y,z)$, the strain tensor is given by \n",
    "$$\n",
    "\\varepsilon = \\frac{1}{2} \\left( \\nabla u + (\\nabla u)^\\top \\right)\n",
    "$$\n",
    "and the stress tensor is given by\n",
    "$$\n",
    "\\sigma = \\lambda \\mathrm{tr}(\\varepsilon) I + 2 \\mu \\varepsilon\n",
    "$$\n",
    "where $\\lambda$ and $\\mu$ are the Lamé parameters and $I$ is the identity tensor.\n",
    "\n",
    "Given an arbitrary displacement field $u(x,y,z)$, we can write these equations as `sympy` expressions:"
   ]
  },
  {
   "cell_type": "code",
   "execution_count": 4,
   "metadata": {},
   "outputs": [
    {
     "data": {
      "text/latex": [
       "$\\displaystyle \\left[\\begin{matrix}\\lambda \\frac{\\partial}{\\partial y} u_{y}{\\left(x,y,z \\right)} + \\lambda \\frac{\\partial}{\\partial z} u_{z}{\\left(x,y,z \\right)} + \\left(\\lambda + 2 \\mu\\right) \\frac{\\partial}{\\partial x} u_{x}{\\left(x,y,z \\right)}\\\\\\lambda \\frac{\\partial}{\\partial x} u_{x}{\\left(x,y,z \\right)} + \\lambda \\frac{\\partial}{\\partial z} u_{z}{\\left(x,y,z \\right)} + \\left(\\lambda + 2 \\mu\\right) \\frac{\\partial}{\\partial y} u_{y}{\\left(x,y,z \\right)}\\\\\\lambda \\frac{\\partial}{\\partial x} u_{x}{\\left(x,y,z \\right)} + \\lambda \\frac{\\partial}{\\partial y} u_{y}{\\left(x,y,z \\right)} + \\left(\\lambda + 2 \\mu\\right) \\frac{\\partial}{\\partial z} u_{z}{\\left(x,y,z \\right)}\\\\2 \\sqrt{2} \\mu \\left(\\frac{\\frac{\\partial}{\\partial y} u_{x}{\\left(x,y,z \\right)}}{2} + \\frac{\\frac{\\partial}{\\partial x} u_{y}{\\left(x,y,z \\right)}}{2}\\right)\\\\2 \\sqrt{2} \\mu \\left(\\frac{\\frac{\\partial}{\\partial z} u_{x}{\\left(x,y,z \\right)}}{2} + \\frac{\\frac{\\partial}{\\partial x} u_{z}{\\left(x,y,z \\right)}}{2}\\right)\\\\2 \\sqrt{2} \\mu \\left(\\frac{\\frac{\\partial}{\\partial z} u_{y}{\\left(x,y,z \\right)}}{2} + \\frac{\\frac{\\partial}{\\partial y} u_{z}{\\left(x,y,z \\right)}}{2}\\right)\\end{matrix}\\right]$"
      ],
      "text/plain": [
       "Matrix([\n",
       "[\\lambda*Derivative(u_y(x, y, z), y) + \\lambda*Derivative(u_z(x, y, z), z) + (\\lambda + 2*\\mu)*Derivative(u_x(x, y, z), x)],\n",
       "[\\lambda*Derivative(u_x(x, y, z), x) + \\lambda*Derivative(u_z(x, y, z), z) + (\\lambda + 2*\\mu)*Derivative(u_y(x, y, z), y)],\n",
       "[\\lambda*Derivative(u_x(x, y, z), x) + \\lambda*Derivative(u_y(x, y, z), y) + (\\lambda + 2*\\mu)*Derivative(u_z(x, y, z), z)],\n",
       "[                                            2*sqrt(2)*\\mu*(Derivative(u_x(x, y, z), y)/2 + Derivative(u_y(x, y, z), x)/2)],\n",
       "[                                            2*sqrt(2)*\\mu*(Derivative(u_x(x, y, z), z)/2 + Derivative(u_z(x, y, z), x)/2)],\n",
       "[                                            2*sqrt(2)*\\mu*(Derivative(u_y(x, y, z), z)/2 + Derivative(u_z(x, y, z), y)/2)]])"
      ]
     },
     "execution_count": 4,
     "metadata": {},
     "output_type": "execute_result"
    }
   ],
   "source": [
    "from sympy import Function, Matrix, Max, symbols, sqrt, eye, Rational\n",
    "\n",
    "\n",
    "def strain(u, x, y, z):\n",
    "    jacobian = u.jacobian([x, y, z])\n",
    "    return (jacobian + jacobian.T) / 2\n",
    "\n",
    "\n",
    "def to_mandel_notation(strain):\n",
    "    factor = sqrt(2)\n",
    "    return Matrix(\n",
    "        [\n",
    "            strain[0, 0],\n",
    "            strain[1, 1],\n",
    "            strain[2, 2],\n",
    "            factor * strain[0, 1],\n",
    "            factor * strain[0, 2],\n",
    "            factor * strain[1, 2],\n",
    "        ]\n",
    "    )\n",
    "\n",
    "\n",
    "u, x, y, z = symbols(\"u x y z\")\n",
    "mu, lam = symbols(r\"\\mu \\lambda\")\n",
    "\n",
    "\n",
    "def elasticity_matrix(mu, lam):\n",
    "    return Matrix(\n",
    "        [\n",
    "            [lam + 2 * mu, lam, lam, 0, 0, 0],\n",
    "            [lam, lam + 2 * mu, lam, 0, 0, 0],\n",
    "            [lam, lam, lam + 2 * mu, 0, 0, 0],\n",
    "            [0, 0, 0, 2 * mu, 0, 0],\n",
    "            [0, 0, 0, 0, 2 * mu, 0],\n",
    "            [0, 0, 0, 0, 0, 2 * mu],\n",
    "        ]\n",
    "    )\n",
    "\n",
    "\n",
    "u_x = Function(\"u_x\")(x, y, z)\n",
    "u_y = Function(\"u_y\")(x, y, z)\n",
    "u_z = Function(\"u_z\")(x, y, z)\n",
    "\n",
    "u = Matrix([u_x, u_y, u_z])\n",
    "\n",
    "eps = strain(u, x, y, z)\n",
    "sigma = elasticity_matrix(mu, lam) * to_mandel_notation(eps)\n",
    "\n",
    "sigma"
   ]
  },
  {
   "cell_type": "markdown",
   "metadata": {},
   "source": [
    "Now we can chose a highly nonlinear displacement field like \n",
    "$$\n",
    "u(x,y,z) = [\\sin(x),  \\sin(x)\\sin(y), \\sin(x)  \\sin(y) \\sin(z)]\n",
    "$$\n",
    "and calculate the corresponding strains and stresses."
   ]
  },
  {
   "cell_type": "code",
   "execution_count": 6,
   "metadata": {},
   "outputs": [
    {
     "data": {
      "text/latex": [
       "$\\displaystyle \\left[\\begin{matrix}\\lambda \\sin{\\left(x \\right)} \\sin{\\left(y \\right)} \\cos{\\left(z \\right)} + \\lambda \\sin{\\left(x \\right)} \\cos{\\left(y \\right)} + \\left(\\lambda + 2 \\mu\\right) \\cos{\\left(x \\right)}\\\\\\lambda \\sin{\\left(x \\right)} \\sin{\\left(y \\right)} \\cos{\\left(z \\right)} + \\lambda \\cos{\\left(x \\right)} + \\left(\\lambda + 2 \\mu\\right) \\sin{\\left(x \\right)} \\cos{\\left(y \\right)}\\\\\\lambda \\sin{\\left(x \\right)} \\cos{\\left(y \\right)} + \\lambda \\cos{\\left(x \\right)} + \\left(\\lambda + 2 \\mu\\right) \\sin{\\left(x \\right)} \\sin{\\left(y \\right)} \\cos{\\left(z \\right)}\\\\\\sqrt{2} \\mu \\sin{\\left(y \\right)} \\cos{\\left(x \\right)}\\\\\\sqrt{2} \\mu \\sin{\\left(y \\right)} \\sin{\\left(z \\right)} \\cos{\\left(x \\right)}\\\\\\sqrt{2} \\mu \\sin{\\left(x \\right)} \\sin{\\left(z \\right)} \\cos{\\left(y \\right)}\\end{matrix}\\right]$"
      ],
      "text/plain": [
       "Matrix([\n",
       "[\\lambda*sin(x)*sin(y)*cos(z) + \\lambda*sin(x)*cos(y) + (\\lambda + 2*\\mu)*cos(x)],\n",
       "[\\lambda*sin(x)*sin(y)*cos(z) + \\lambda*cos(x) + (\\lambda + 2*\\mu)*sin(x)*cos(y)],\n",
       "[\\lambda*sin(x)*cos(y) + \\lambda*cos(x) + (\\lambda + 2*\\mu)*sin(x)*sin(y)*cos(z)],\n",
       "[                                                      sqrt(2)*\\mu*sin(y)*cos(x)],\n",
       "[                                               sqrt(2)*\\mu*sin(y)*sin(z)*cos(x)],\n",
       "[                                               sqrt(2)*\\mu*sin(x)*sin(z)*cos(y)]])"
      ]
     },
     "execution_count": 6,
     "metadata": {},
     "output_type": "execute_result"
    }
   ],
   "source": [
    "from sympy import sin\n",
    "u_nonlinear = Matrix([sin(x), sin(x)*sin(y), sin(x)*sin(y)*sin(z)])\n",
    "\n",
    "eps_nonlinear = strain(u_nonlinear, x, y, z)\n",
    "sigma_nonlinear = elasticity_matrix(mu, lam) * to_mandel_notation(eps_nonlinear)\n",
    "sigma_nonlinear"
   ]
  },
  {
   "cell_type": "markdown",
   "metadata": {},
   "source": [
    "The underlying PDE is the momentum of linear balance equation\n",
    "$$\n",
    "\\nabla \\cdot \\sigma = f\n",
    "$$\n",
    "where $f$ is the body force.\n",
    "Since we have an anylytical and differentiable solution, we can calculate the body force $f$ by inserting the analytical solution into the momentum balance equation."
   ]
  },
  {
   "cell_type": "code",
   "execution_count": 8,
   "metadata": {},
   "outputs": [
    {
     "data": {
      "text/latex": [
       "$\\displaystyle \\left[\\begin{matrix}\\lambda \\sin{\\left(y \\right)} \\cos{\\left(x \\right)} \\cos{\\left(z \\right)} + \\lambda \\cos{\\left(x \\right)} \\cos{\\left(y \\right)} + \\sqrt{2} \\mu \\sin{\\left(y \\right)} \\cos{\\left(x \\right)} \\cos{\\left(z \\right)} + \\sqrt{2} \\mu \\cos{\\left(x \\right)} \\cos{\\left(y \\right)} - \\left(\\lambda + 2 \\mu\\right) \\sin{\\left(x \\right)}\\\\\\lambda \\sin{\\left(x \\right)} \\cos{\\left(y \\right)} \\cos{\\left(z \\right)} - \\sqrt{2} \\mu \\sin{\\left(x \\right)} \\sin{\\left(y \\right)} + \\sqrt{2} \\mu \\sin{\\left(x \\right)} \\cos{\\left(y \\right)} \\cos{\\left(z \\right)} - \\left(\\lambda + 2 \\mu\\right) \\sin{\\left(x \\right)} \\sin{\\left(y \\right)}\\\\- 2 \\sqrt{2} \\mu \\sin{\\left(x \\right)} \\sin{\\left(y \\right)} \\sin{\\left(z \\right)} - \\left(\\lambda + 2 \\mu\\right) \\sin{\\left(x \\right)} \\sin{\\left(y \\right)} \\sin{\\left(z \\right)}\\end{matrix}\\right]$"
      ],
      "text/plain": [
       "Matrix([\n",
       "[\\lambda*sin(y)*cos(x)*cos(z) + \\lambda*cos(x)*cos(y) + sqrt(2)*\\mu*sin(y)*cos(x)*cos(z) + sqrt(2)*\\mu*cos(x)*cos(y) - (\\lambda + 2*\\mu)*sin(x)],\n",
       "[                 \\lambda*sin(x)*cos(y)*cos(z) - sqrt(2)*\\mu*sin(x)*sin(y) + sqrt(2)*\\mu*sin(x)*cos(y)*cos(z) - (\\lambda + 2*\\mu)*sin(x)*sin(y)],\n",
       "[                                                                  -2*sqrt(2)*\\mu*sin(x)*sin(y)*sin(z) - (\\lambda + 2*\\mu)*sin(x)*sin(y)*sin(z)]])"
      ]
     },
     "execution_count": 8,
     "metadata": {},
     "output_type": "execute_result"
    }
   ],
   "source": [
    "from sympy import diff\n",
    "\n",
    "def div(sigma):\n",
    "    return Matrix(\n",
    "        [\n",
    "            diff(sigma[0], x) + diff(sigma[3], y) + diff(sigma[4], z),\n",
    "            diff(sigma[3], x) + diff(sigma[1], y) + diff(sigma[5], z),\n",
    "            diff(sigma[4], x) + diff(sigma[5], y) + diff(sigma[2], z),\n",
    "        ]\n",
    "    )\n",
    "div(sigma_nonlinear)"
   ]
  },
  {
   "cell_type": "code",
   "execution_count": 14,
   "metadata": {},
   "outputs": [
    {
     "data": {
      "text/latex": [
       "$\\displaystyle \\left[\\begin{matrix}\\lambda \\sin{\\left(y \\right)} \\cos{\\left(x \\right)} \\cos{\\left(z \\right)} + \\lambda \\cos{\\left(x \\right)} \\cos{\\left(y \\right)} + \\sqrt{2} \\mu \\sin{\\left(y \\right)} \\cos{\\left(x \\right)} \\cos{\\left(z \\right)} + \\sqrt{2} \\mu \\cos{\\left(x \\right)} \\cos{\\left(y \\right)} - \\left(\\lambda + 2 \\mu\\right) \\sin{\\left(x \\right)}\\\\\\lambda \\sin{\\left(x \\right)} \\cos{\\left(y \\right)} \\cos{\\left(z \\right)} - \\sqrt{2} \\mu \\sin{\\left(x \\right)} \\sin{\\left(y \\right)} + \\sqrt{2} \\mu \\sin{\\left(x \\right)} \\cos{\\left(y \\right)} \\cos{\\left(z \\right)} - \\left(\\lambda + 2 \\mu\\right) \\sin{\\left(x \\right)} \\sin{\\left(y \\right)}\\\\- 2 \\sqrt{2} \\mu \\sin{\\left(x \\right)} \\sin{\\left(y \\right)} \\sin{\\left(z \\right)} - \\left(\\lambda + 2 \\mu\\right) \\sin{\\left(x \\right)} \\sin{\\left(y \\right)} \\sin{\\left(z \\right)}\\end{matrix}\\right]$"
      ],
      "text/plain": [
       "Matrix([\n",
       "[\\lambda*sin(y)*cos(x)*cos(z) + \\lambda*cos(x)*cos(y) + sqrt(2)*\\mu*sin(y)*cos(x)*cos(z) + sqrt(2)*\\mu*cos(x)*cos(y) - (\\lambda + 2*\\mu)*sin(x)],\n",
       "[                 \\lambda*sin(x)*cos(y)*cos(z) - sqrt(2)*\\mu*sin(x)*sin(y) + sqrt(2)*\\mu*sin(x)*cos(y)*cos(z) - (\\lambda + 2*\\mu)*sin(x)*sin(y)],\n",
       "[                                                                  -2*sqrt(2)*\\mu*sin(x)*sin(y)*sin(z) - (\\lambda + 2*\\mu)*sin(x)*sin(y)*sin(z)]])"
      ]
     },
     "execution_count": 14,
     "metadata": {},
     "output_type": "execute_result"
    }
   ],
   "source": [
    "\n",
    "str(div(sigma_nonlinear))\n",
    "\n",
    "from sympy import parse_expr, srepr\n",
    "\n",
    "parse_expr(srepr(div(sigma_nonlinear)), evaluate=False)"
   ]
  },
  {
   "cell_type": "code",
   "execution_count": null,
   "metadata": {},
   "outputs": [],
   "source": []
  }
 ],
 "metadata": {
  "kernelspec": {
   "display_name": "model-validation-platform-docs",
   "language": "python",
   "name": "python3"
  },
  "language_info": {
   "codemirror_mode": {
    "name": "ipython",
    "version": 3
   },
   "file_extension": ".py",
   "mimetype": "text/x-python",
   "name": "python",
   "nbconvert_exporter": "python",
   "pygments_lexer": "ipython3",
   "version": "3.12.4"
  },
  "orig_nbformat": 4
 },
 "nbformat": 4,
 "nbformat_minor": 2
}
